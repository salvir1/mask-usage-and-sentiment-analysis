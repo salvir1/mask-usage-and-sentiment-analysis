{
 "cells": [
  {
   "cell_type": "markdown",
   "metadata": {},
   "source": [
    "## Survey data of personal behavior with respect to COVID--notebook contains mask specific data\n",
    "\n",
    "- Compiled by Institute of Global Health at the Imperial College of London and YouGov\n",
    "\n",
    "### Terms of use\n",
    "\n",
    "- Data is copyright 2020 YouGov Plc, all rights reserved, is provided to the public strictly for educational and academic research purposes.\n",
    "\n",
    "### Citation\n",
    "\n",
    "- Jones, Sarah P., Imperial College London Big Data Analytical Unit and YouGov Plc. 2020, Imperial College London YouGov Covid Data Hub, v1.0, YouGov Plc, April 2020"
   ]
  },
  {
   "cell_type": "code",
   "execution_count": 1,
   "metadata": {},
   "outputs": [],
   "source": [
    "import pandas as pd\n",
    "import numpy as np\n",
    "import matplotlib.pyplot as plt\n",
    "import warnings\n",
    "warnings.filterwarnings('ignore')"
   ]
  },
  {
   "cell_type": "markdown",
   "metadata": {},
   "source": [
    "### Relevant mask features\n",
    "\n",
    "#### All questions asked 4/2/20 - 9/30/20\n",
    "- endtime, state, qweek\n",
    "- i1_health: About how many people from your household have you come into physical contact with (within 2 meters / 6 feet)?\n",
    "- i2_health: Not including those people in your household, about how many people have you come into physical contact with (within 2 meters / 6 feet)?\n",
    "- i7a_health: How many times did you leave your home yesterday?  If you are not staying at home, how many times did you leave where you are staying yesterday?\n",
    "- i12_health_1: Worn a face mask outside your home (e.g. when on public transport, going to a supermarket, going to a main road)\n",
    "\n",
    "#### Questions below begin 6/24/20--looked at these but they're mostly missing data\n",
    "- m2: On how many days last week did you leave your house?\n",
    "- m3: And on how many of those days did you wear a face mask or covering?\n",
    "- r1_3: Wearing a mask will protect me against coronavirus (COVID-19) (1 disagree, 7 agree)\n",
    "- r1_4: Wearing a mask will protect others against coronavirus (COVID-19) (1 disagree, 7 agree)\n",
    "- m14_6: Masks are not effective in preventing the spread of Covid-19\n",
    "- (Data did not appear in this dataset $m14: Why are you currently not wearing a mask or face covering when you go outside? Please tick all that apply)"
   ]
  },
  {
   "cell_type": "code",
   "execution_count": 2,
   "metadata": {},
   "outputs": [],
   "source": [
    "df = pd.read_csv('../data/yougov-survey-data/united-states.csv')"
   ]
  },
  {
   "cell_type": "code",
   "execution_count": 3,
   "metadata": {},
   "outputs": [],
   "source": [
    "dfmask = df[['endtime', 'state', 'qweek', 'i1_health', 'i2_health', 'i7a_health', 'i12_health_1']]"
   ]
  },
  {
   "cell_type": "code",
   "execution_count": 4,
   "metadata": {},
   "outputs": [
    {
     "data": {
      "text/html": [
       "<div>\n",
       "<style scoped>\n",
       "    .dataframe tbody tr th:only-of-type {\n",
       "        vertical-align: middle;\n",
       "    }\n",
       "\n",
       "    .dataframe tbody tr th {\n",
       "        vertical-align: top;\n",
       "    }\n",
       "\n",
       "    .dataframe thead th {\n",
       "        text-align: right;\n",
       "    }\n",
       "</style>\n",
       "<table border=\"1\" class=\"dataframe\">\n",
       "  <thead>\n",
       "    <tr style=\"text-align: right;\">\n",
       "      <th></th>\n",
       "      <th>endtime</th>\n",
       "      <th>state</th>\n",
       "      <th>qweek</th>\n",
       "      <th>i1_health</th>\n",
       "      <th>i2_health</th>\n",
       "      <th>i7a_health</th>\n",
       "      <th>i12_health_1</th>\n",
       "    </tr>\n",
       "  </thead>\n",
       "  <tbody>\n",
       "    <tr>\n",
       "      <th>0</th>\n",
       "      <td>02/04/2020 08:11</td>\n",
       "      <td>California</td>\n",
       "      <td>week 1</td>\n",
       "      <td>5</td>\n",
       "      <td>7</td>\n",
       "      <td>0</td>\n",
       "      <td>Frequently</td>\n",
       "    </tr>\n",
       "  </tbody>\n",
       "</table>\n",
       "</div>"
      ],
      "text/plain": [
       "            endtime       state   qweek  i1_health  i2_health  i7a_health  \\\n",
       "0  02/04/2020 08:11  California  week 1          5          7           0   \n",
       "\n",
       "  i12_health_1  \n",
       "0   Frequently  "
      ]
     },
     "execution_count": 4,
     "metadata": {},
     "output_type": "execute_result"
    }
   ],
   "source": [
    "dfmask.head(1)"
   ]
  },
  {
   "cell_type": "code",
   "execution_count": 5,
   "metadata": {},
   "outputs": [],
   "source": [
    "dfmask['endtime'] = pd.to_datetime(dfmask['endtime'],dayfirst=True)"
   ]
  },
  {
   "cell_type": "code",
   "execution_count": 6,
   "metadata": {},
   "outputs": [
    {
     "data": {
      "text/plain": [
       "0        2020-04-02\n",
       "399      2020-04-02\n",
       "400      2020-04-02\n",
       "401      2020-04-02\n",
       "402      2020-04-02\n",
       "            ...    \n",
       "16977    2020-09-29\n",
       "16978    2020-09-29\n",
       "16979    2020-09-29\n",
       "16980    2020-09-30\n",
       "16981    2020-09-30\n",
       "Name: date, Length: 16982, dtype: object"
      ]
     },
     "execution_count": 6,
     "metadata": {},
     "output_type": "execute_result"
    }
   ],
   "source": [
    "dfmask['date'] = dfmask['endtime'].dt.date\n",
    "dfmask['date'].sort_values()"
   ]
  },
  {
   "cell_type": "code",
   "execution_count": 7,
   "metadata": {},
   "outputs": [],
   "source": [
    "dfmask['month'] = dfmask['endtime'].dt.month"
   ]
  },
  {
   "cell_type": "code",
   "execution_count": 8,
   "metadata": {},
   "outputs": [],
   "source": [
    "state_groupings =  pd.read_csv('../data/state_abbrev.csv', thousands=',') # Load in state groupings and merge with mask data\n",
    "dfmask = dfmask.merge(state_groupings, how='inner' ,left_on='state', right_on='State')\n",
    "dfmask['CVD_group'] = dfmask['CVD_group'].apply(lambda x: 'Group 1: No outbreak' if x == 0 else x)\n",
    "dfmask['CVD_group'] = dfmask['CVD_group'].apply(lambda x: 'Group 2: Spring outbreak' if x == 1 else x)\n",
    "dfmask['CVD_group'] = dfmask['CVD_group'].apply(lambda x: 'Group 3: Summer outbreak' if x == 2 else x)\n",
    "dfmask['CVD_group'] = dfmask['CVD_group'].apply(lambda x: 'Group 4: Fall outbreak' if x == 3 else x)"
   ]
  },
  {
   "cell_type": "code",
   "execution_count": 9,
   "metadata": {},
   "outputs": [],
   "source": [
    "dfmask['i12_health_1'] = (dfmask['i12_health_1']\n",
    "                          .apply(lambda x: 'Always/frequently' if x in ['Always','Frequently'] else x))\n",
    "dfmask['i12_health_1'] = (dfmask['i12_health_1']\n",
    "                          .apply(lambda x: 'Sometimes/rarely/never' if x in ['Sometimes', 'Rarely', 'Not at all'] else x))"
   ]
  },
  {
   "cell_type": "code",
   "execution_count": 10,
   "metadata": {},
   "outputs": [],
   "source": [
    "i12_group_level = (dfmask[['month', 'i12_health_1', 'CVD_group', 'i7a_health']]\n",
    "                   .groupby(['month', 'CVD_group', 'i12_health_1'])\n",
    "                   .count()\n",
    "                   .reset_index()\n",
    "                   .sort_values('month'))\n",
    "i12_group_level = i12_group_level.rename(columns={'i7a_health':'count','i12_health_1':'Self-reported mask usage'})"
   ]
  },
  {
   "cell_type": "code",
   "execution_count": 11,
   "metadata": {},
   "outputs": [],
   "source": [
    "# Sum up the survey counts by month and by group in order to normalize the survey results for graphing\n",
    "i12_month_counts = (i12_group_level\n",
    "                    .groupby(['month', 'CVD_group'])\n",
    "                    .sum()\n",
    "                    .rename(columns={'count':'sub_totals'})\n",
    "                    .reset_index())"
   ]
  },
  {
   "cell_type": "code",
   "execution_count": 12,
   "metadata": {},
   "outputs": [],
   "source": [
    "i12_group_level = i12_group_level.merge(i12_month_counts, on=['month','CVD_group'])\n",
    "i12_group_level['Percent'] = i12_group_level['count'] / i12_group_level['sub_totals'] * 100"
   ]
  },
  {
   "cell_type": "code",
   "execution_count": 13,
   "metadata": {},
   "outputs": [
    {
     "data": {
      "image/png": "[encoded data removed]",
      "text/plain": [
       "<Figure size 1296x864 with 4 Axes>"
      ]
     },
     "metadata": {
      "needs_background": "light"
     },
     "output_type": "display_data"
    }
   ],
   "source": [
    "# Pivot table is required for converting the datatable from long format to wide format. Wide format makes the stacked bar much easier.\n",
    "fig, ax = plt.subplots(2, 2, figsize = (18,12))\n",
    "fig.suptitle('Self-reported mask usage', size=20)\n",
    "plt.figtext(0.95, 0.05, 'Survey source: Jones, Sarah P., Imperial College London Big Data Analytical Unit and YouGov Plc. 2020, Imperial College London YouGov Covid Data Hub, v1.0, YouGov Plc, April 2020', horizontalalignment='right')\n",
    "colors = ['tab:blue', '#f9bc86']\n",
    "i = 0\n",
    "for group in i12_group_level['CVD_group'].unique():\n",
    "    i12_pivot = (i12_group_level[i12_group_level['CVD_group'] == group]\n",
    "     .pivot(index = 'month', columns = 'Self-reported mask usage', values = 'Percent'))\n",
    "    (i12_pivot.loc[:,['Always/frequently','Sometimes/rarely/never']]\n",
    "     .plot.bar(stacked=True, ax=ax[i//2][i%2], width=0.75, color=colors, edgecolor='white'))\n",
    "    ax[i//2][i%2].set_title(f'{group}')\n",
    "    i += 1\n",
    "plt.savefig('img/self-reported-mask-usage.png')"
   ]
  },
  {
   "cell_type": "code",
   "execution_count": 14,
   "metadata": {},
   "outputs": [
    {
     "ename": "KeyError",
     "evalue": "'Self-reported mask usage'",
     "output_type": "error",
     "traceback": [
      "\u001b[0;31m---------------------------------------------------------------------------\u001b[0m",
      "\u001b[0;31mKeyError\u001b[0m                                  Traceback (most recent call last)",
      "\u001b[0;32m<ipython-input-14-c52ef5110ac7>\u001b[0m in \u001b[0;36m<module>\u001b[0;34m\u001b[0m\n\u001b[1;32m      4\u001b[0m \u001b[0mi12_one_group\u001b[0m \u001b[0;34m=\u001b[0m \u001b[0mi12_group_level\u001b[0m\u001b[0;34m[\u001b[0m\u001b[0mi12_group_level\u001b[0m\u001b[0;34m[\u001b[0m\u001b[0;34m'CVD_group'\u001b[0m\u001b[0;34m]\u001b[0m \u001b[0;34m==\u001b[0m \u001b[0mgroup_name\u001b[0m\u001b[0;34m]\u001b[0m\u001b[0;34m\u001b[0m\u001b[0;34m\u001b[0m\u001b[0m\n\u001b[1;32m      5\u001b[0m \u001b[0;34m\u001b[0m\u001b[0m\n\u001b[0;32m----> 6\u001b[0;31m \u001b[0mfig\u001b[0m \u001b[0;34m=\u001b[0m \u001b[0mpx\u001b[0m\u001b[0;34m.\u001b[0m\u001b[0mbar\u001b[0m\u001b[0;34m(\u001b[0m\u001b[0mi12_one_group\u001b[0m\u001b[0;34m,\u001b[0m \u001b[0mx\u001b[0m\u001b[0;34m=\u001b[0m\u001b[0;34m\"month\"\u001b[0m\u001b[0;34m,\u001b[0m \u001b[0my\u001b[0m\u001b[0;34m=\u001b[0m\u001b[0;34m\"Percent\"\u001b[0m\u001b[0;34m,\u001b[0m \u001b[0mcolor\u001b[0m\u001b[0;34m=\u001b[0m\u001b[0;34m\"Self-reported mask usage\"\u001b[0m\u001b[0;34m,\u001b[0m \u001b[0mtitle\u001b[0m \u001b[0;34m=\u001b[0m \u001b[0;34mf'Public mask usage for {group_name}'\u001b[0m\u001b[0;34m)\u001b[0m\u001b[0;34m\u001b[0m\u001b[0;34m\u001b[0m\u001b[0m\n\u001b[0m\u001b[1;32m      7\u001b[0m \u001b[0;31m# fig.write_image(\"img/mask.png\")\u001b[0m\u001b[0;34m\u001b[0m\u001b[0;34m\u001b[0m\u001b[0;34m\u001b[0m\u001b[0m\n\u001b[1;32m      8\u001b[0m \u001b[0mfig\u001b[0m\u001b[0;34m.\u001b[0m\u001b[0mwrite_html\u001b[0m\u001b[0;34m(\u001b[0m\u001b[0;34m'img/mask.html'\u001b[0m\u001b[0;34m,\u001b[0m \u001b[0mauto_open\u001b[0m\u001b[0;34m=\u001b[0m\u001b[0;32mTrue\u001b[0m\u001b[0;34m)\u001b[0m\u001b[0;34m\u001b[0m\u001b[0;34m\u001b[0m\u001b[0m\n",
      "\u001b[0;32m~/anaconda3/lib/python3.7/site-packages/plotly/express/_chart_types.py\u001b[0m in \u001b[0;36mbar\u001b[0;34m(data_frame, x, y, color, facet_row, facet_col, facet_col_wrap, facet_row_spacing, facet_col_spacing, hover_name, hover_data, custom_data, text, base, error_x, error_x_minus, error_y, error_y_minus, animation_frame, animation_group, category_orders, labels, color_discrete_sequence, color_discrete_map, color_continuous_scale, range_color, color_continuous_midpoint, opacity, orientation, barmode, log_x, log_y, range_x, range_y, title, template, width, height)\u001b[0m\n\u001b[1;32m    352\u001b[0m         \u001b[0mconstructor\u001b[0m\u001b[0;34m=\u001b[0m\u001b[0mgo\u001b[0m\u001b[0;34m.\u001b[0m\u001b[0mBar\u001b[0m\u001b[0;34m,\u001b[0m\u001b[0;34m\u001b[0m\u001b[0;34m\u001b[0m\u001b[0m\n\u001b[1;32m    353\u001b[0m         \u001b[0mtrace_patch\u001b[0m\u001b[0;34m=\u001b[0m\u001b[0mdict\u001b[0m\u001b[0;34m(\u001b[0m\u001b[0mtextposition\u001b[0m\u001b[0;34m=\u001b[0m\u001b[0;34m\"auto\"\u001b[0m\u001b[0;34m)\u001b[0m\u001b[0;34m,\u001b[0m\u001b[0;34m\u001b[0m\u001b[0;34m\u001b[0m\u001b[0m\n\u001b[0;32m--> 354\u001b[0;31m         \u001b[0mlayout_patch\u001b[0m\u001b[0;34m=\u001b[0m\u001b[0mdict\u001b[0m\u001b[0;34m(\u001b[0m\u001b[0mbarmode\u001b[0m\u001b[0;34m=\u001b[0m\u001b[0mbarmode\u001b[0m\u001b[0;34m)\u001b[0m\u001b[0;34m,\u001b[0m\u001b[0;34m\u001b[0m\u001b[0;34m\u001b[0m\u001b[0m\n\u001b[0m\u001b[1;32m    355\u001b[0m     )\n\u001b[1;32m    356\u001b[0m \u001b[0;34m\u001b[0m\u001b[0m\n",
      "\u001b[0;32m~/anaconda3/lib/python3.7/site-packages/plotly/express/_core.py\u001b[0m in \u001b[0;36mmake_figure\u001b[0;34m(args, constructor, trace_patch, layout_patch)\u001b[0m\n\u001b[1;32m   1857\u001b[0m                 \u001b[0mprefix\u001b[0m \u001b[0;34m=\u001b[0m \u001b[0mget_label\u001b[0m\u001b[0;34m(\u001b[0m\u001b[0margs\u001b[0m\u001b[0;34m,\u001b[0m \u001b[0margs\u001b[0m\u001b[0;34m[\u001b[0m\u001b[0;34m\"facet_row\"\u001b[0m\u001b[0;34m]\u001b[0m\u001b[0;34m)\u001b[0m \u001b[0;34m+\u001b[0m \u001b[0;34m\"=\"\u001b[0m\u001b[0;34m\u001b[0m\u001b[0;34m\u001b[0m\u001b[0m\n\u001b[1;32m   1858\u001b[0m                 \u001b[0mrow_labels\u001b[0m \u001b[0;34m=\u001b[0m \u001b[0;34m[\u001b[0m\u001b[0mprefix\u001b[0m \u001b[0;34m+\u001b[0m \u001b[0mstr\u001b[0m\u001b[0;34m(\u001b[0m\u001b[0ms\u001b[0m\u001b[0;34m)\u001b[0m \u001b[0;32mfor\u001b[0m \u001b[0ms\u001b[0m \u001b[0;32min\u001b[0m \u001b[0msorted_group_values\u001b[0m\u001b[0;34m[\u001b[0m\u001b[0mm\u001b[0m\u001b[0;34m.\u001b[0m\u001b[0mgrouper\u001b[0m\u001b[0;34m]\u001b[0m\u001b[0;34m]\u001b[0m\u001b[0;34m\u001b[0m\u001b[0;34m\u001b[0m\u001b[0m\n\u001b[0;32m-> 1859\u001b[0;31m             \u001b[0;32mfor\u001b[0m \u001b[0mval\u001b[0m \u001b[0;32min\u001b[0m \u001b[0msorted_group_values\u001b[0m\u001b[0;34m[\u001b[0m\u001b[0mm\u001b[0m\u001b[0;34m.\u001b[0m\u001b[0mgrouper\u001b[0m\u001b[0;34m]\u001b[0m\u001b[0;34m:\u001b[0m\u001b[0;34m\u001b[0m\u001b[0;34m\u001b[0m\u001b[0m\n\u001b[0m\u001b[1;32m   1860\u001b[0m                 \u001b[0;32mif\u001b[0m \u001b[0mval\u001b[0m \u001b[0;32mnot\u001b[0m \u001b[0;32min\u001b[0m \u001b[0mm\u001b[0m\u001b[0;34m.\u001b[0m\u001b[0mval_map\u001b[0m\u001b[0;34m:\u001b[0m\u001b[0;34m\u001b[0m\u001b[0;34m\u001b[0m\u001b[0m\n\u001b[1;32m   1861\u001b[0m                     \u001b[0mm\u001b[0m\u001b[0;34m.\u001b[0m\u001b[0mval_map\u001b[0m\u001b[0;34m[\u001b[0m\u001b[0mval\u001b[0m\u001b[0;34m]\u001b[0m \u001b[0;34m=\u001b[0m \u001b[0mm\u001b[0m\u001b[0;34m.\u001b[0m\u001b[0msequence\u001b[0m\u001b[0;34m[\u001b[0m\u001b[0mlen\u001b[0m\u001b[0;34m(\u001b[0m\u001b[0mm\u001b[0m\u001b[0;34m.\u001b[0m\u001b[0mval_map\u001b[0m\u001b[0;34m)\u001b[0m \u001b[0;34m%\u001b[0m \u001b[0mlen\u001b[0m\u001b[0;34m(\u001b[0m\u001b[0mm\u001b[0m\u001b[0;34m.\u001b[0m\u001b[0msequence\u001b[0m\u001b[0;34m)\u001b[0m\u001b[0;34m]\u001b[0m\u001b[0;34m\u001b[0m\u001b[0;34m\u001b[0m\u001b[0m\n",
      "\u001b[0;31mKeyError\u001b[0m: 'Self-reported mask usage'"
     ]
    }
   ],
   "source": [
    "import plotly.express as px\n",
    "\n",
    "group_name = 'Spring outbreak'\n",
    "i12_one_group = i12_group_level[i12_group_level['CVD_group'] == group_name]\n",
    "\n",
    "fig = px.bar(i12_one_group, x=\"month\", y=\"Percent\", color=\"Self-reported mask usage\", title = f'Public mask usage for {group_name}')\n",
    "# fig.write_image(\"img/mask.png\")\n",
    "fig.write_html('img/mask.html', auto_open=True)"
   ]
  },
  {
   "cell_type": "code",
   "execution_count": null,
   "metadata": {},
   "outputs": [],
   "source": []
  },
  {
   "cell_type": "markdown",
   "metadata": {},
   "source": [
    "### Miscellaneous results: by week, by state, etc"
   ]
  },
  {
   "cell_type": "code",
   "execution_count": 15,
   "metadata": {},
   "outputs": [],
   "source": [
    "dfmask['date'] = pd.to_datetime(dfmask['date'] - pd.to_timedelta(7, unit='d'))"
   ]
  },
  {
   "cell_type": "code",
   "execution_count": 16,
   "metadata": {},
   "outputs": [
    {
     "data": {
      "text/html": [
       "<div>\n",
       "<style scoped>\n",
       "    .dataframe tbody tr th:only-of-type {\n",
       "        vertical-align: middle;\n",
       "    }\n",
       "\n",
       "    .dataframe tbody tr th {\n",
       "        vertical-align: top;\n",
       "    }\n",
       "\n",
       "    .dataframe thead th {\n",
       "        text-align: right;\n",
       "    }\n",
       "</style>\n",
       "<table border=\"1\" class=\"dataframe\">\n",
       "  <thead>\n",
       "    <tr style=\"text-align: right;\">\n",
       "      <th></th>\n",
       "      <th>date</th>\n",
       "      <th>i12_health_1</th>\n",
       "      <th>endtime</th>\n",
       "      <th>state</th>\n",
       "      <th>qweek</th>\n",
       "      <th>ct</th>\n",
       "      <th>i2_health</th>\n",
       "      <th>i7a_health</th>\n",
       "      <th>month</th>\n",
       "      <th>State</th>\n",
       "      <th>Code</th>\n",
       "      <th>Population</th>\n",
       "      <th>CVD_group</th>\n",
       "    </tr>\n",
       "  </thead>\n",
       "  <tbody>\n",
       "    <tr>\n",
       "      <th>0</th>\n",
       "      <td>2020-03-30</td>\n",
       "      <td>Always/frequently</td>\n",
       "      <td>533</td>\n",
       "      <td>533</td>\n",
       "      <td>533</td>\n",
       "      <td>533</td>\n",
       "      <td>533</td>\n",
       "      <td>533</td>\n",
       "      <td>533</td>\n",
       "      <td>533</td>\n",
       "      <td>533</td>\n",
       "      <td>533</td>\n",
       "      <td>533</td>\n",
       "    </tr>\n",
       "  </tbody>\n",
       "</table>\n",
       "</div>"
      ],
      "text/plain": [
       "        date       i12_health_1  endtime  state  qweek   ct  i2_health  \\\n",
       "0 2020-03-30  Always/frequently      533    533    533  533        533   \n",
       "\n",
       "   i7a_health  month  State  Code  Population  CVD_group  \n",
       "0         533    533    533   533         533        533  "
      ]
     },
     "execution_count": 16,
     "metadata": {},
     "output_type": "execute_result"
    }
   ],
   "source": [
    "i12_week = dfmask.groupby([pd.Grouper(key='date', freq='W-MON'),'i12_health_1']).count().rename(columns={'i1_health':'ct'}).reset_index().sort_values('date')\n",
    "i12_week.head(1)"
   ]
  },
  {
   "cell_type": "code",
   "execution_count": 17,
   "metadata": {},
   "outputs": [
    {
     "data": {
      "image/png": "[encoded data removed]",
      "text/plain": [
       "<Figure size 1080x360 with 1 Axes>"
      ]
     },
     "metadata": {
      "needs_background": "light"
     },
     "output_type": "display_data"
    }
   ],
   "source": [
    "fig, ax = plt.subplots(figsize = (15,5))\n",
    "colors = ['tab:blue', 'tab:gray', 'tab:olive', 'tab:cyan', 'tab:pink']\n",
    "i = 0\n",
    "for key, data in i12_week.groupby('i12_health_1'):\n",
    "    data.plot.bar(x='month', y='ct', ax=ax, label=key,color = colors[i], stacked=False)\n",
    "    i += 1\n"
   ]
  },
  {
   "cell_type": "code",
   "execution_count": null,
   "metadata": {},
   "outputs": [],
   "source": []
  },
  {
   "cell_type": "code",
   "execution_count": 18,
   "metadata": {},
   "outputs": [],
   "source": [
    "state_group = dfmask[dfmask['CVD_group'] == 0]"
   ]
  },
  {
   "cell_type": "code",
   "execution_count": 19,
   "metadata": {},
   "outputs": [
    {
     "name": "stdout",
     "output_type": "stream",
     "text": [
      "0\n"
     ]
    },
    {
     "data": {
      "image/png": "[encoded data removed]",
      "text/plain": [
       "<Figure size 1080x360 with 1 Axes>"
      ]
     },
     "metadata": {
      "needs_background": "light"
     },
     "output_type": "display_data"
    }
   ],
   "source": [
    "i12_group_month = state_group.groupby(['month','i12_health_1']).count().rename(columns={'i1_health':'ct'}).reset_index().sort_values('month')\n",
    "\n",
    "fig, ax = plt.subplots(figsize = (15,5))\n",
    "# colors = ['#00BFFF', '#C1FFC1','#FF9999', '#CAE1FF', '#FFDEAD']\n",
    "colors = ['tab:blue', 'tab:gray', 'tab:olive', 'tab:cyan', 'tab:pink']\n",
    "ttl_obs = i12_group_month['ct'].sum()\n",
    "print(ttl_obs)\n",
    "i = 0\n",
    "for key, data in i12_group_month.groupby('i12_health_1'):\n",
    "    print(data)\n",
    "    data.plot.bar(x='month', y='ct', ax=ax, label=key,color = colors[i], stacked=False)\n",
    "    i += 1"
   ]
  },
  {
   "cell_type": "code",
   "execution_count": null,
   "metadata": {},
   "outputs": [],
   "source": []
  },
  {
   "cell_type": "code",
   "execution_count": null,
   "metadata": {},
   "outputs": [],
   "source": []
  }
 ],
 "metadata": {
  "kernelspec": {
   "display_name": "Python 3",
   "language": "python",
   "name": "python3"
  },
  "language_info": {
   "codemirror_mode": {
    "name": "ipython",
    "version": 3
   },
   "file_extension": ".py",
   "mimetype": "text/x-python",
   "name": "python",
   "nbconvert_exporter": "python",
   "pygments_lexer": "ipython3",
   "version": "3.7.7"
  }
 },
 "nbformat": 4,
 "nbformat_minor": 4
}
